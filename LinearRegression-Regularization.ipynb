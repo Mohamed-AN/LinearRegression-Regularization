{
 "cells": [
  {
   "cell_type": "markdown",
   "metadata": {},
   "source": [
    "# `0.` IMPORTING REQUIRED LIBs"
   ]
  },
  {
   "cell_type": "code",
   "execution_count": 1,
   "metadata": {},
   "outputs": [],
   "source": [
    "# base libariries \n",
    "import numpy as np\n",
    "import pandas as pd\n",
    "import matplotlib.pyplot as plt\n",
    "from scipy.stats import shapiro\n",
    "\n",
    "# preprocessing libariries\n",
    "from sklearn.preprocessing import MinMaxScaler\n",
    "from sklearn.preprocessing import StandardScaler\n",
    "from sklearn.preprocessing import OrdinalEncoder\n",
    "from sklearn.preprocessing import OneHotEncoder\n",
    "from sklearn.preprocessing import PolynomialFeatures\n",
    "\n",
    "# statistics \n",
    "from statsmodels.api import OLS\n",
    "import statsmodels.api as sm\n",
    "from statsmodels.stats.outliers_influence import variance_inflation_factor\n",
    "from statsmodels.tools.tools import add_constant\n",
    "\n",
    "# splitting helper\n",
    "from sklearn.model_selection import train_test_split\n",
    "\n",
    "# models\n",
    "from sklearn.linear_model import LinearRegression\n",
    "from sklearn.linear_model import Ridge\n",
    "from sklearn.linear_model import Lasso\n",
    "\n",
    "# evaluation metric\n",
    "from sklearn.metrics import r2_score\n",
    "from sklearn.metrics import mean_squared_error\n",
    "\n",
    "# warnings\n",
    "import warnings\n",
    "warnings.filterwarnings(\"ignore\")"
   ]
  },
  {
   "cell_type": "markdown",
   "metadata": {},
   "source": [
    "# `~` MY STATISTICS & METRICS"
   ]
  },
  {
   "cell_type": "markdown",
   "metadata": {},
   "source": [
    "#### `~.0` R-Squared\n",
    "$$ R^{2} = 1 - \\dfrac{RSS}{TSS}$$"
   ]
  },
  {
   "cell_type": "code",
   "execution_count": 2,
   "metadata": {},
   "outputs": [],
   "source": [
    "def r_squared(actual, predicted):\n",
    "    actual_mean = np.mean(actual.to_numpy(), axis=0)\n",
    "    RSS = np.sum(np.power(actual.to_numpy() - predicted, 2), axis=0) # unexplained variance\n",
    "    TSS = np.sum(np.power(actual.to_numpy() - actual_mean, 2), axis=0) # total variance\n",
    "\n",
    "    return (1 - (RSS/TSS)).item()"
   ]
  },
  {
   "cell_type": "markdown",
   "metadata": {},
   "source": [
    "#### `~.1` Adjusted R-Squared\n",
    "$$ Adjusted \\: R^{2} = 1 - \\dfrac{(1 - R^{2})(N - 1)}{N - p - 1}$$"
   ]
  },
  {
   "cell_type": "code",
   "execution_count": 3,
   "metadata": {},
   "outputs": [],
   "source": [
    "def adj_r(actual, predicted, features_num):\n",
    "    # data shape\n",
    "    observations_num = actual.shape[0]\n",
    "    \n",
    "    r2 = r_squared(actual, predicted)\n",
    "    adj_r = 1 - ((1 - r2) * (observations_num - 1))/(observations_num - features_num - 1)\n",
    "    \n",
    "    return adj_r"
   ]
  },
  {
   "cell_type": "markdown",
   "metadata": {},
   "source": [
    "#### `~.2` Mean Square Error\n",
    "$$ MSE = \\dfrac{1}{n} \\sum_{i=1}^{n} (y_{i} - \\hat{y}_{i})^{2} $$"
   ]
  },
  {
   "cell_type": "code",
   "execution_count": 4,
   "metadata": {},
   "outputs": [],
   "source": [
    "def mse(actual, predicted):\n",
    "    return np.mean(np.power(actual.to_numpy() - predicted, 2), axis=0).item()\n",
    "    "
   ]
  },
  {
   "cell_type": "code",
   "execution_count": 5,
   "metadata": {},
   "outputs": [],
   "source": [
    "def rmse(actual, predicted):\n",
    "    return np.sqrt(mse(actual, predicted))"
   ]
  },
  {
   "cell_type": "markdown",
   "metadata": {},
   "source": [
    "#### `~.3` Mean Absolute Error\n",
    "$$ MAE = \\dfrac{1}{n} \\sum_{i=1}^{n} |y_{i} - \\hat{y}_{i}| $$"
   ]
  },
  {
   "cell_type": "code",
   "execution_count": 6,
   "metadata": {},
   "outputs": [],
   "source": [
    "def mae(actual, predicted):\n",
    "    return np.mean(np.abs(actual.to_numpy() - predicted), axis=0).item()"
   ]
  },
  {
   "cell_type": "markdown",
   "metadata": {},
   "source": [
    "#### `~.4` Mean Absolute Percentage Error\n",
    "$$ MAPE = \\dfrac{100%}{n} \\sum_{i=1}^{n} \\dfrac{|y_{i} - \\hat{y}_{i}|}{y_{i} + \\epsilon} $$"
   ]
  },
  {
   "cell_type": "code",
   "execution_count": 7,
   "metadata": {},
   "outputs": [],
   "source": [
    "def mape(actual, predicted, epsilon=0.0001):\n",
    "    mape = np.mean(np.abs((actual.to_numpy() - predicted) / (actual.to_numpy() + epsilon)), axis=0) * 100\n",
    "    return mape.item()"
   ]
  },
  {
   "cell_type": "markdown",
   "metadata": {},
   "source": [
    "#### `~.5` Realtive Absolute Error\n",
    "$$ RAE = \\dfrac{\\sum_{i=1}^{n}|y_{i} - \\hat{y}_{i}|}{\\sum_{i=1}^{n}|y_{i} - \\bar{y}|} $$"
   ]
  },
  {
   "cell_type": "code",
   "execution_count": 8,
   "metadata": {},
   "outputs": [],
   "source": [
    "def rae(actual, predicted):\n",
    "    numerator = np.sum(np.abs(actual.to_numpy() - predicted))\n",
    "    denominator = np.sum(np.abs(actual.to_numpy() - np.mean(actual.to_numpy(), axis=0)))\n",
    "    return (numerator/denominator).item()"
   ]
  },
  {
   "cell_type": "markdown",
   "metadata": {},
   "source": [
    "#### `~.2` Variance Inflation Factor\n",
    "$$ VIF_{j} = \\dfrac{1}{1 - R^{2}_{j}} $$"
   ]
  },
  {
   "cell_type": "code",
   "execution_count": 9,
   "metadata": {},
   "outputs": [],
   "source": [
    "def my_variance_inflation_factor(features_df, vif_threshold):\n",
    "    # creating a copy from features to safely drop from it\n",
    "    copy_features_df = features_df.copy()\n",
    "    \n",
    "    # linear regression model\n",
    "    model = LinearRegression()\n",
    "\n",
    "    y_actual_label = list(copy_features_df.columns)\n",
    "    vif_dict = {}\n",
    "\n",
    "    while len(y_actual_label) > 0:\n",
    "        # response feature -> first element in our list of features\n",
    "        y_actual = copy_features_df[y_actual_label[0]]\n",
    "        \n",
    "        # remaining features are our predicators\n",
    "        predicators = list(set(copy_features_df.columns) - set([y_actual_label[0]]))\n",
    "        \n",
    "        # fitting our model\n",
    "        model.fit(copy_features_df[predicators], y_actual)\n",
    "        \n",
    "        # predicting the response feature to calculate if VIF\n",
    "        y_pred = model.predict(copy_features_df[predicators])\n",
    "        \n",
    "        # calculating VIF\n",
    "        r2 = r_squared(actual=y_actual, predicted=y_pred)\n",
    "        try:\n",
    "            vif = 1/(1 - r2)\n",
    "        except:\n",
    "            vif = float('inf')\n",
    "        \n",
    "        # keeping each feature with its corresponding VIF\n",
    "        vif_dict[y_actual_label[0]] = vif\n",
    "\n",
    "        # checking if the feature will be dropped or not\n",
    "        if vif > vif_threshold:\n",
    "            copy_features_df.drop(columns=[y_actual_label[0]], inplace=True)\n",
    "        y_actual_label.remove(y_actual_label[0])\n",
    "\n",
    "    return vif_dict"
   ]
  },
  {
   "cell_type": "code",
   "execution_count": 10,
   "metadata": {},
   "outputs": [],
   "source": [
    "def handle_vif(X_preprocessed_df, vif_coef):\n",
    "    vif_dict = my_variance_inflation_factor(X_preprocessed_df, vif_coef)\n",
    "    cols_with_high_vif = [v for v in vif_dict if vif_dict[v] > vif_coef]\n",
    "    \n",
    "    return cols_with_high_vif"
   ]
  },
  {
   "cell_type": "code",
   "execution_count": 11,
   "metadata": {},
   "outputs": [],
   "source": [
    "def drop_vif(X_preprocessed_df, cols_to_be_dropped):\n",
    "    return X_preprocessed_df.drop(columns=cols_to_be_dropped)"
   ]
  },
  {
   "cell_type": "markdown",
   "metadata": {},
   "source": [
    "# `1.` HELPER FUNCTIONS"
   ]
  },
  {
   "cell_type": "code",
   "execution_count": 12,
   "metadata": {},
   "outputs": [],
   "source": [
    "# function to get the updated numerical columns\n",
    "def get_numeric(features_df):\n",
    "    return [c for c, dt in zip(features_df.dtypes.index, features_df.dtypes.values) if np.issubdtype(dt, np.number)]"
   ]
  },
  {
   "cell_type": "markdown",
   "metadata": {},
   "source": [
    "#### `1.0` Handling nulls"
   ]
  },
  {
   "cell_type": "code",
   "execution_count": 13,
   "metadata": {},
   "outputs": [],
   "source": [
    "def handle_nulls(features_df, cols_threshold, rows_threshold):\n",
    "    # data shape\n",
    "    observations_num = features_df.shape[0]\n",
    "\n",
    "    # getting count of nulls in columns\n",
    "    cols_nulls_count = features_df.isna().sum(axis=0).reset_index().rename(columns={0: 'null_counts'})\n",
    "    nulls_cols = cols_nulls_count[cols_nulls_count['null_counts']>0]\n",
    "\n",
    "    # handling them\n",
    "    cols_to_be_dropped = set(nulls_cols[nulls_cols['null_counts']/observations_num > cols_threshold]['index'])\n",
    "    rows_to_be_dropped = set(nulls_cols[nulls_cols['null_counts']/observations_num < rows_threshold]['index'])\n",
    "    cols_to_be_imputed = set(nulls_cols['index']) - cols_to_be_dropped - rows_to_be_dropped\n",
    "\n",
    "    # dictionary \n",
    "    final = {'cols_to_be_dropped': list(cols_to_be_dropped), \n",
    "             'rows_to_be_dropped': list(rows_to_be_dropped),\n",
    "             'cols_to_be_imputed': list(cols_to_be_imputed)}\n",
    "\n",
    "    return final"
   ]
  },
  {
   "cell_type": "code",
   "execution_count": 14,
   "metadata": {},
   "outputs": [],
   "source": [
    "def drop_nulls(features_df, response_df, drop_dict, flag):\n",
    "    # keep indicies for rows that had to be dropped\n",
    "    rows_indicies = np.unique(np.where(features_df[drop_dict['rows_to_be_dropped']].isna())[0])\n",
    "    rows_list_indicies = features_df.iloc[rows_indicies, :].index.to_list()\n",
    "\n",
    "    # start dropping\n",
    "    features_df.drop(columns=drop_dict['cols_to_be_dropped'], inplace=True)\n",
    "    features_df.dropna(axis=0, subset=drop_dict['rows_to_be_dropped'], inplace=True)\n",
    "\n",
    "    # dropping the corresponding y\n",
    "    response_df.drop(index=rows_list_indicies, inplace=True)\n",
    "\n",
    "    for c in drop_dict['cols_to_be_imputed']:\n",
    "        if np.issubdtype(features_df[c].dtype, np.number):\n",
    "            print(f\"* column '{c}' in {flag}, is numeric >> mean.\")\n",
    "            features_df[c] = features_df[c].fillna(features_df[c].mean())\n",
    "        else:\n",
    "            print(f\"* column '{c}' in {flag}, is not numeric >> mode.\")\n",
    "            features_df[c] = features_df[c].fillna(features_df[c].mode())\n",
    "\n",
    "    return None"
   ]
  },
  {
   "cell_type": "markdown",
   "metadata": {},
   "source": [
    "#### `1.1` Handling duplicates"
   ]
  },
  {
   "cell_type": "code",
   "execution_count": 15,
   "metadata": {},
   "outputs": [],
   "source": [
    "def handle_duplicates(features_df, dup_threshold):\n",
    "    # data shape\n",
    "    observations_num = features_df.shape[0]\n",
    "\n",
    "    cols_to_be_dropped = []\n",
    "    for c in features_df.columns:\n",
    "        if (features_df[c].value_counts()/observations_num > dup_threshold).sum():\n",
    "            cols_to_be_dropped.append(c)\n",
    "            \n",
    "    return cols_to_be_dropped"
   ]
  },
  {
   "cell_type": "code",
   "execution_count": 16,
   "metadata": {},
   "outputs": [],
   "source": [
    "def drop_duplicates(features_df, cols_to_be_dropped):\n",
    "    features_df.drop(columns=cols_to_be_dropped, inplace=True)\n",
    "\n",
    "    return None"
   ]
  },
  {
   "cell_type": "markdown",
   "metadata": {},
   "source": [
    "#### `1.2` Handling correlation"
   ]
  },
  {
   "cell_type": "code",
   "execution_count": 17,
   "metadata": {},
   "outputs": [],
   "source": [
    "def handle_correlation(features_df, response_df, corr_threshold):\n",
    "    numeric = get_numeric(features_df)\n",
    "    num_of_features = numeric.__len__()\n",
    "\n",
    "    cols_to_be_dropped = []\n",
    "    for row_idx in range(num_of_features):\n",
    "        for col_idx in range(row_idx+1, num_of_features):\n",
    "            if abs(np.corrcoef(features_df[numeric[row_idx]], features_df[numeric[col_idx]])[0, 1]) > corr_threshold:\n",
    "                row_corr_with_response = np.corrcoef(features_df[numeric[row_idx]], response_df.to_numpy().flatten())[0, 1]\n",
    "                col_corr_with_response = np.corrcoef(features_df[numeric[col_idx]], response_df.to_numpy().flatten())[0, 1]\n",
    "\n",
    "                if row_corr_with_response > col_corr_with_response:\n",
    "                    print(f\"* correlated column '{numeric[col_idx]}'.\")\n",
    "                    cols_to_be_dropped.append(numeric[col_idx])\n",
    "                else:\n",
    "                    print(f\"* correlated column '{numeric[row_idx]}'.\")\n",
    "                    cols_to_be_dropped.append(numeric[row_idx])\n",
    "    \n",
    "    return cols_to_be_dropped"
   ]
  },
  {
   "cell_type": "code",
   "execution_count": 18,
   "metadata": {},
   "outputs": [],
   "source": [
    "def drop_correlated(features_df, cols_to_be_dropped):\n",
    "    features_df.drop(columns=cols_to_be_dropped, inplace=True)\n",
    "\n",
    "    return None"
   ]
  },
  {
   "cell_type": "markdown",
   "metadata": {},
   "source": [
    "#### `1.3` Handling outliers"
   ]
  },
  {
   "cell_type": "code",
   "execution_count": 19,
   "metadata": {},
   "outputs": [],
   "source": [
    "def handle_outliers(features_df, out_threshold):\n",
    "    numeric = get_numeric(features_df)\n",
    "    Q1 = np.quantile(features_df[numeric], q=0.25, method='midpoint', axis=0)\n",
    "    Q3 = np.quantile(features_df[numeric], q=0.75, method='midpoint', axis=0)\n",
    "\n",
    "    IQR = Q3 - Q1\n",
    "    upper_bound = Q3 + out_threshold * IQR\n",
    "    lower_bound = Q1 - out_threshold * IQR\n",
    "\n",
    "    return lower_bound, upper_bound"
   ]
  },
  {
   "cell_type": "code",
   "execution_count": 20,
   "metadata": {},
   "outputs": [],
   "source": [
    "def outliers_clamping(features_df, lower_bound, upper_bound):\n",
    "    numeric = get_numeric(features_df)\n",
    "    num_of_features = numeric.__len__()\n",
    "    \n",
    "    for i in range(num_of_features):\n",
    "        before = features_df[numeric[i]]\n",
    "        features_df[numeric[i]] = np.where(features_df[numeric[i]] <= upper_bound[i], features_df[numeric[i]], upper_bound[i])\n",
    "        features_df[numeric[i]] = np.where(features_df[numeric[i]] >= lower_bound[i], features_df[numeric[i]], lower_bound[i])\n",
    "        after = features_df[numeric[i]]\n",
    "        print(f'shape = {features_df.shape[0]}, total matched {(before == after).sum()}')"
   ]
  },
  {
   "cell_type": "markdown",
   "metadata": {},
   "source": [
    "#### `1.4` Handling skewness"
   ]
  },
  {
   "cell_type": "code",
   "execution_count": 21,
   "metadata": {},
   "outputs": [],
   "source": [
    "def skewness(features_df):\n",
    "    # data shape\n",
    "    observations_num = features_df.shape[0]\n",
    "    \n",
    "    numeric = get_numeric(features_df)\n",
    "    \n",
    "    numenator = np.sum(np.power(features_df[numeric] - features_df[numeric].mean(axis=0), 3), axis=0) * observations_num\n",
    "    denumenator = np.power(features_df[numeric].std(axis=0), 3) * (observations_num - 1) * (observations_num - 2)\n",
    "    sk_coeff = (numenator/denumenator).reset_index().rename(columns={0: 'sk_coef'})\n",
    "    \n",
    "    final = list(set(sk_coeff[sk_coeff['sk_coef']>=1]['index']).union(set(sk_coeff[sk_coeff['sk_coef']<=-1]['index'])))\n",
    "\n",
    "    return final"
   ]
  },
  {
   "cell_type": "code",
   "execution_count": 22,
   "metadata": {},
   "outputs": [],
   "source": [
    "def handle_skewness(features_df, cols_to_be_transformed):\n",
    "    features_df[cols_to_be_transformed] = np.log(np.abs(features_df[cols_to_be_transformed]) + 1)\n",
    "        \n",
    "    return None"
   ]
  },
  {
   "cell_type": "markdown",
   "metadata": {},
   "source": [
    "#### `1.5` Checking normal distribution"
   ]
  },
  {
   "cell_type": "code",
   "execution_count": 23,
   "metadata": {},
   "outputs": [],
   "source": [
    "def normality_test(features_df, shapiro_alpha):\n",
    "    numeric = get_numeric(features_df)\n",
    "    \n",
    "    feats_std_scale = []\n",
    "    feats_min_max_scale = []\n",
    "\n",
    "    for col in numeric:\n",
    "        stat, p = shapiro(features_df[col])\n",
    "        print('* W_Statistic=%.3f, p=%.8f' % (stat, p))\n",
    "\n",
    "        if p > shapiro_alpha:\n",
    "            print(f'  {col} looks like gaussian (fail to reject H0)')\n",
    "            feats_std_scale.append(col)\n",
    "        else:\n",
    "            print(f'  {col} does not look Gaussian (reject H0)')\n",
    "            feats_min_max_scale.append(col)\n",
    "\n",
    "    return feats_min_max_scale, feats_std_scale"
   ]
  },
  {
   "cell_type": "code",
   "execution_count": 24,
   "metadata": {},
   "outputs": [],
   "source": [
    "def qq_plot(features_df, ncols=4, fig_size=(20, 20)):\n",
    "    numeric = get_numeric(features_df)\n",
    "    features_num = numeric.__len__()\n",
    "    \n",
    "    # number of cols and rows \n",
    "    nrows = features_num//ncols\n",
    "    if features_num%ncols:\n",
    "        nrows += 1\n",
    "        \n",
    "    # ploting\n",
    "    fig, axes = plt.subplots(nrows=nrows, ncols=ncols, figsize=fig_size)\n",
    "    for r in range(nrows):\n",
    "        for c in range(ncols):\n",
    "            if ncols*r+c < features_num:\n",
    "                sm.qqplot(features_df[numeric[ncols*r+c]], fit=False, line='q', ax=axes[r, c])\n",
    "                axes[r, c].set_title(numeric[ncols*r+c])\n",
    "                \n",
    "    plt.tight_layout()\n",
    "    plt.show()"
   ]
  },
  {
   "cell_type": "markdown",
   "metadata": {},
   "source": [
    "#### `1.6` Features scaling"
   ]
  },
  {
   "cell_type": "code",
   "execution_count": 25,
   "metadata": {},
   "outputs": [],
   "source": [
    "def features_scaling(X_train_, X_val_, feats_min_max, feats_std):\n",
    "    print(f'* Number of features needs min_max = {len(feats_min_max)}, std = {len(feats_std)} according to shapiro-test.')\n",
    "\n",
    "    flag = 0\n",
    "\n",
    "    try:\n",
    "        # model\n",
    "        min_max_scaler = MinMaxScaler()\n",
    "        min_max_scaler.fit(X_train_[feats_min_max])\n",
    "\n",
    "        # transform\n",
    "        X_train_min_max = pd.DataFrame(min_max_scaler.transform(X_train_[feats_min_max]), columns=feats_min_max, index=X_train_.index)\n",
    "        X_val_min_max = pd.DataFrame(min_max_scaler.transform(X_val_[feats_min_max]), columns=feats_min_max, index=X_val_.index)\n",
    "    except:\n",
    "        flag = 1\n",
    "        print(\"* All features follows gaussian distribution according to shapiro-test, standard scalling used.\")\n",
    "\n",
    "    try:\n",
    "        # model\n",
    "        std_scaler = StandardScaler()\n",
    "        std_scaler.fit(X_train_[feats_std])\n",
    "\n",
    "        # transform\n",
    "        X_train_std = pd.DataFrame(std_scaler.transform(X_train_[feats_std]), columns=feats_std, index=X_train_.index)\n",
    "        X_val_std = pd.DataFrame(std_scaler.transform(X_val_[feats_std]), columns=feats_std, index=X_val_.index)\n",
    "    except:\n",
    "        flag = 2\n",
    "        print(\"* All features did not follow gaussian distribution according to shapiro-test, min-max scalling used.\")\n",
    "    \n",
    "    # merge\n",
    "    if not flag:\n",
    "        X_train_scaled = X_train_std.merge(X_train_min_max, right_index=True, left_index=True, how='inner')\n",
    "        X_val_scaled = X_val_std.merge(X_val_min_max, right_index=True, left_index=True, how='inner')\n",
    "    elif flag == 1:\n",
    "        X_train_scaled = X_train_std\n",
    "        X_val_scaled = X_val_std\n",
    "    else:\n",
    "        X_train_scaled = X_train_min_max\n",
    "        X_val_scaled = X_val_min_max\n",
    "        \n",
    "    return X_train_scaled, X_val_scaled"
   ]
  },
  {
   "cell_type": "markdown",
   "metadata": {},
   "source": [
    "#### `1.7` Features encoding"
   ]
  },
  {
   "cell_type": "code",
   "execution_count": 26,
   "metadata": {},
   "outputs": [],
   "source": [
    "def encoding(X_train_, X_val_, ordinal_cats, ordinal_list, nominal_cats):\n",
    "    # ordinal categorical columns\n",
    "    ordinal_enc = OrdinalEncoder(categories=ordinal_list)\n",
    "    ordinal_enc.fit(X_train_[ordinal_cats])\n",
    "    X_train_ordinal_df = pd.DataFrame(ordinal_enc.transform(X_train_[ordinal_cats]), columns=ordinal_cats, index=X_train_.index)\n",
    "    X_val_ordinal_df = pd.DataFrame(ordinal_enc.transform(X_val_[ordinal_cats]), columns=ordinal_cats, index=X_val_.index)\n",
    "\n",
    "    # nominal categorical columns\n",
    "    onehot_enc = OneHotEncoder(sparse=False)\n",
    "    onehot_enc.fit(X_train_[nominal_cats])\n",
    "    X_train_nominal = onehot_enc.transform(X_train_[nominal_cats])\n",
    "    X_val_nominal = onehot_enc.transform(X_val_[nominal_cats])\n",
    "    a = onehot_enc.categories_\n",
    "\n",
    "    # nominal columns names\n",
    "    col_names = []\n",
    "    for i in range(nominal_cats.__len__()):\n",
    "        temp = [nominal_cats[i]+'_'+nc for nc in list(a[i])]\n",
    "        col_names += temp\n",
    "\n",
    "    X_train_nominal_df = pd.DataFrame(X_train_nominal, columns=col_names, index=X_train_.index)\n",
    "    X_val_nominal_df = pd.DataFrame(X_val_nominal, columns=col_names, index=X_val_.index)\n",
    "\n",
    "    # merge\n",
    "    X_train_cat = X_train_nominal_df.merge(X_train_ordinal_df, right_index=True, left_index=True, how='inner')\n",
    "    X_val_cat = X_val_nominal_df.merge(X_val_ordinal_df, right_index=True, left_index=True, how='inner')\n",
    "    \n",
    "    return X_train_cat, X_val_cat"
   ]
  },
  {
   "cell_type": "markdown",
   "metadata": {},
   "source": [
    "# `2.` DATA-PREPROCESSING FUNCTION"
   ]
  },
  {
   "cell_type": "code",
   "execution_count": 27,
   "metadata": {},
   "outputs": [],
   "source": [
    "def data_preprocessing(X_train_df, y_train_df, X_val_df, y_val_df, ord_cat, ord_list, nom_cat, out_threshold, \n",
    "                       corr_threshold, dup_threshold, shapiro_threshold, cols_threshold, rows_threshold, \n",
    "                       clamp=True, skew=True, scale=True):\n",
    "\n",
    "    # Handling Nulls in our data\n",
    "    print(\"############################################## NULLS STAGE #############################################\")\n",
    "    print(f\"// columns threshold: {cols_threshold}\")\n",
    "    print(f\"// rows threshold: {rows_threshold}\")\n",
    "    nulls_dict = handle_nulls(X_train_df, cols_threshold, rows_threshold)\n",
    "    print(nulls_dict)\n",
    "    drop_nulls(X_train_df, y_train_df, nulls_dict, 'train')\n",
    "    drop_nulls(X_val_df, y_val_df, nulls_dict, 'val')\n",
    "    print(\"########################################################################################################\")\n",
    "\n",
    "    # a) Drops any column which has 80% of values with the same value\n",
    "    print(\"############################################ DUPLICATES STAGE ##########################################\")\n",
    "    print(f\"// duplicates threshold: {dup_threshold}\")\n",
    "    duplicated_cols_to_be_dropped = handle_duplicates(X_train_df, dup_threshold)\n",
    "    drop_duplicates(X_train_df, duplicated_cols_to_be_dropped)\n",
    "    drop_duplicates(X_val_df, duplicated_cols_to_be_dropped)\n",
    "    print(f\"// columns with duplicates: {duplicated_cols_to_be_dropped}\")\n",
    "    print(\"########################################################################################################\")\n",
    "\n",
    "    # b) Drops one of two highly correlated features \n",
    "    print(\"########################################### CORRELATION STAGE ##########################################\")\n",
    "    print(f\"// correlation threshold: {corr_threshold}\")\n",
    "    correlated_cols_to_be_dropped = handle_correlation(X_train_df, y_train_df, corr_threshold)\n",
    "    drop_correlated(X_train_df, correlated_cols_to_be_dropped)\n",
    "    drop_correlated(X_val_df, correlated_cols_to_be_dropped)\n",
    "    print(f\"// highly correlated columns: {correlated_cols_to_be_dropped}\")\n",
    "    print(\"########################################################################################################\")\n",
    "    \n",
    "    # c) Clamps the outliers\n",
    "    if clamp:\n",
    "        print(\"############################################ OUTLIERS STAGE ############################################\")\n",
    "        print(f\"// outlier threshold: {out_threshold}\")\n",
    "        lower_bounds, upper_bounds = handle_outliers(X_train_df, out_threshold)\n",
    "        outliers_clamping(X_train_df, lower_bounds, upper_bounds)\n",
    "        outliers_clamping(X_val_df, lower_bounds, upper_bounds)\n",
    "        print(\"########################################################################################################\")\n",
    "    \n",
    "    # d) Log-transforms any highly skewed variable\n",
    "    if skew:\n",
    "        print(\"############################################ SKEWNESS STAGE ############################################\")\n",
    "        cols_to_be_transformed = skewness(X_train_df)\n",
    "        handle_skewness(X_train_df, cols_to_be_transformed)\n",
    "        handle_skewness(X_val_df, cols_to_be_transformed)\n",
    "        print(f\"// columns to be transformed: {cols_to_be_transformed}\")\n",
    "        print(\"########################################################################################################\")\n",
    "\n",
    "    # e, f) Min-max scale -> non-gaussian features, and standardize -> gaussian features, Shapiro-Wilk test with alpha = 0.01\n",
    "    if scale:\n",
    "        print(\"############################################### Q-Q PLOT ###############################################\")\n",
    "        qq_plot(X_train_df)\n",
    "        print(\"########################################################################################################\")\n",
    "        print(\"############################################## NORMALITY ###############################################\")\n",
    "        print(f\"// shapiro threshold: {shapiro_threshold}\")\n",
    "        min_max_feats, std_feats = normality_test(X_train_df, shapiro_threshold)\n",
    "        X_train_scaled, X_val_scaled = features_scaling(X_train_df, X_val_df, min_max_feats, std_feats)\n",
    "        print(f\"// features scaled with min_max: {min_max_feats}\")\n",
    "        print(f\"// features scaled with std: {std_feats}\")\n",
    "        print(\"########################################################################################################\")\n",
    "\n",
    "    # g) OHE -> nominal features, and ordinal encodes -> ordinal features\n",
    "    print(\"#################################### ENCODING CATEGORICAL FEATURES #####################################\")\n",
    "    X_train_cat, X_val_cat = encoding(X_train_df, X_val_df, ord_cat, ord_list, nom_cat)\n",
    "    print(f\"// X_train_cat.shape: {X_train_cat.shape}\")\n",
    "    print(f\"// X_val_cat.shape: {X_val_cat.shape}\")\n",
    "    print(\"########################################################################################################\")\n",
    "    \n",
    "    # h) Merges the pre-processed categorical and numerical data\n",
    "    print(\"############################################### MERGING ################################################\")\n",
    "    if scale:\n",
    "        X_train_final = X_train_cat.merge(X_train_scaled, right_index=True, left_index=True, how='inner')\n",
    "        X_val_final = X_val_cat.merge(X_val_scaled, right_index=True, left_index=True, how='inner')\n",
    "    else:\n",
    "        X_train_final = X_train_cat.merge(X_train_df[get_numeric(X_train_df)], right_index=True, left_index=True, how='inner')\n",
    "        X_val_final = X_val_cat.merge(X_val_df[get_numeric(X_train_df)], right_index=True, left_index=True, how='inner')\n",
    "    print(f\"// X_train_final.shape: {X_train_final.shape}\")\n",
    "    print(f\"// X_val_final.shape: {X_val_final.shape}\")\n",
    "    print(\"########################################################################################################\")\n",
    "\n",
    "    return X_train_final, X_val_final"
   ]
  },
  {
   "cell_type": "markdown",
   "metadata": {},
   "source": [
    "# `3.` MODEL MANIPULATION"
   ]
  },
  {
   "cell_type": "code",
   "execution_count": 28,
   "metadata": {},
   "outputs": [],
   "source": [
    "def create_model(X_train, y_train, model_type, alpha=0):\n",
    "    if model_type == 'linear':\n",
    "        model = LinearRegression()\n",
    "    if model_type == 'ridge':\n",
    "        model = Ridge(alpha=alpha, random_state=42)\n",
    "    if model_type == 'lasso':\n",
    "        model = Lasso(alpha=alpha, random_state=42)\n",
    "        \n",
    "    model.fit(X_train, y_train)\n",
    "    \n",
    "    return model"
   ]
  },
  {
   "cell_type": "code",
   "execution_count": 29,
   "metadata": {},
   "outputs": [],
   "source": [
    "def evaluate_model(actual, X_val_, model):\n",
    "    features_num = X_val_.shape[1]\n",
    "    predicted = model.predict(X_val_)\n",
    "    \n",
    "    metrics_df = pd.DataFrame(columns=['MSE', 'RMSE', 'MAE', 'MAPE', 'RAE', 'R-square', 'Adj-R'])\n",
    "    metrics_df.loc[0] = [mse(actual, predicted), rmse(actual, predicted), mae(actual, predicted),\n",
    "                         mape(actual, predicted), rae(actual, predicted), r_squared(actual, predicted),\n",
    "                         adj_r(actual, predicted, features_num)]\n",
    "    \n",
    "    return metrics_df"
   ]
  },
  {
   "cell_type": "code",
   "execution_count": 30,
   "metadata": {},
   "outputs": [],
   "source": [
    "def evaluate_models(actual, X_val_, models):\n",
    "    features_num = X_val_.shape[1]\n",
    "    As = []\n",
    "    MSEs = []\n",
    "    RMSEs = []\n",
    "    MAEs = []\n",
    "    MAPEs = []\n",
    "    RAEs = []\n",
    "    Rs = []\n",
    "    A_Rs = []\n",
    "    \n",
    "    for model in models:\n",
    "        # predicte validation labels\n",
    "        predicted = model.predict(X_val_).reshape((-1, 1))\n",
    "        \n",
    "        # saving our metrics for each model\n",
    "        As.append(model.alpha)\n",
    "        MSEs.append(mse(actual, predicted))\n",
    "        RMSEs.append(rmse(actual, predicted))\n",
    "        MAEs.append(mae(actual, predicted))\n",
    "        MAPEs.append(mape(actual, predicted))\n",
    "        RAEs.append(rae(actual, predicted))\n",
    "        Rs.append(r_squared(actual, predicted))\n",
    "        A_Rs.append(adj_r(actual, predicted, features_num))\n",
    "    \n",
    "    metrics_dict = {\n",
    "                    'alpha': As,\n",
    "                    'MSE': MSEs,\n",
    "                    'RMSE': RMSEs,\n",
    "                    'MAE': MAEs,\n",
    "                    'MAPE': MAPEs,\n",
    "                    'RAE': RAEs,\n",
    "                    'R-square': Rs,\n",
    "                    'Adj-R': A_Rs\n",
    "                    }\n",
    "    \n",
    "    return pd.DataFrame(metrics_dict)"
   ]
  },
  {
   "cell_type": "markdown",
   "metadata": {},
   "source": [
    "# `4.` MAIN PROGRAM"
   ]
  },
  {
   "cell_type": "markdown",
   "metadata": {},
   "source": [
    "#### `4.0` Loading the data into memory"
   ]
  },
  {
   "cell_type": "code",
   "execution_count": 31,
   "metadata": {},
   "outputs": [],
   "source": [
    "raw_data = pd.read_csv('train.csv').drop(columns=['Id'])\n",
    "X_train, X_val, y_train, y_val = train_test_split(raw_data.iloc[:, :-1], raw_data.iloc[:, [-1]], test_size=0.25, shuffle=True, random_state=42)"
   ]
  },
  {
   "cell_type": "markdown",
   "metadata": {},
   "source": [
    "### `4.1` Data-preprocessing (using ordinal-encoding)"
   ]
  },
  {
   "cell_type": "code",
   "execution_count": 32,
   "metadata": {},
   "outputs": [],
   "source": [
    "ordinal_cats = ['LotShape', 'ExterQual', 'BsmtQual',  'BsmtFinType1', 'BsmtExposure', 'HeatingQC', 'KitchenQual', 'GarageFinish']\n",
    "nominal_cats = ['HouseStyle', 'LotConfig', 'RoofStyle', 'GarageType', 'Exterior1st', 'Foundation', 'Exterior2nd', 'MasVnrType', 'Neighborhood']\n",
    "\n",
    "rating = ['None', 'Po', 'Fa', 'TA', 'Gd', 'Ex']\n",
    "ordinal_encoding = [\n",
    "    ['None', 'Reg', 'IR1', 'IR2', 'IR3'],\n",
    "    rating,\n",
    "    rating,\n",
    "    ['None', 'Unf', 'LwQ', 'Rec', 'BLQ', 'ALQ', 'GLQ'],\n",
    "    ['None', 'No', 'Mn', 'Av', 'Gd'],\n",
    "    rating,\n",
    "    rating,\n",
    "    ['None', 'Unf', 'RFn', 'Fin']\n",
    "]"
   ]
  },
  {
   "cell_type": "code",
   "execution_count": 33,
   "metadata": {},
   "outputs": [
    {
     "name": "stdout",
     "output_type": "stream",
     "text": [
      "############################################## NULLS STAGE #############################################\n",
      "// columns threshold: 0.6\n",
      "// rows threshold: 0.06\n",
      "{'cols_to_be_dropped': ['Fence', 'PoolQC', 'MiscFeature', 'Alley'], 'rows_to_be_dropped': ['BsmtExposure', 'MasVnrType', 'MasVnrArea', 'Electrical', 'GarageQual', 'BsmtFinType2', 'GarageYrBlt', 'BsmtQual', 'GarageType', 'GarageFinish', 'BsmtFinType1', 'BsmtCond', 'GarageCond'], 'cols_to_be_imputed': ['FireplaceQu', 'LotFrontage']}\n",
      "* column 'FireplaceQu' in train, is not numeric >> mode.\n",
      "* column 'LotFrontage' in train, is numeric >> mean.\n",
      "* column 'FireplaceQu' in val, is not numeric >> mode.\n",
      "* column 'LotFrontage' in val, is numeric >> mean.\n",
      "########################################################################################################\n",
      "############################################ DUPLICATES STAGE ##########################################\n",
      "// duplicates threshold: 0.8\n",
      "// columns with duplicates: ['MSZoning', 'Street', 'LandContour', 'Utilities', 'LandSlope', 'Condition1', 'Condition2', 'BldgType', 'RoofMatl', 'ExterCond', 'BsmtCond', 'BsmtFinType2', 'BsmtFinSF2', 'Heating', 'CentralAir', 'Electrical', 'LowQualFinSF', 'BsmtHalfBath', 'KitchenAbvGr', 'Functional', 'GarageQual', 'GarageCond', 'PavedDrive', 'EnclosedPorch', '3SsnPorch', 'ScreenPorch', 'PoolArea', 'MiscVal', 'SaleType', 'SaleCondition']\n",
      "########################################################################################################\n",
      "########################################### CORRELATION STAGE ##########################################\n",
      "// correlation threshold: 0.7\n",
      "* correlated column 'GarageYrBlt'.\n",
      "* correlated column 'TotalBsmtSF'.\n",
      "* correlated column 'TotRmsAbvGrd'.\n",
      "* correlated column 'GarageArea'.\n",
      "// highly correlated columns: ['GarageYrBlt', 'TotalBsmtSF', 'TotRmsAbvGrd', 'GarageArea']\n",
      "########################################################################################################\n",
      "############################################ OUTLIERS STAGE ############################################\n",
      "// outlier threshold: 1.5\n",
      "shape = 1012, total matched 942\n",
      "shape = 1012, total matched 949\n",
      "shape = 1012, total matched 953\n",
      "shape = 1012, total matched 1012\n",
      "shape = 1012, total matched 937\n",
      "shape = 1012, total matched 1006\n",
      "shape = 1012, total matched 1012\n",
      "shape = 1012, total matched 951\n",
      "shape = 1012, total matched 1008\n",
      "shape = 1012, total matched 994\n",
      "shape = 1012, total matched 1001\n",
      "shape = 1012, total matched 1011\n",
      "shape = 1012, total matched 989\n",
      "shape = 1012, total matched 1012\n",
      "shape = 1012, total matched 1012\n",
      "shape = 1012, total matched 1012\n",
      "shape = 1012, total matched 993\n",
      "shape = 1012, total matched 1009\n",
      "shape = 1012, total matched 1010\n",
      "shape = 1012, total matched 989\n",
      "shape = 1012, total matched 961\n",
      "shape = 1012, total matched 1012\n",
      "shape = 1012, total matched 1012\n",
      "shape = 326, total matched 308\n",
      "shape = 326, total matched 308\n",
      "shape = 326, total matched 311\n",
      "shape = 326, total matched 326\n",
      "shape = 326, total matched 295\n",
      "shape = 326, total matched 325\n",
      "shape = 326, total matched 326\n",
      "shape = 326, total matched 307\n",
      "shape = 326, total matched 324\n",
      "shape = 326, total matched 321\n",
      "shape = 326, total matched 321\n",
      "shape = 326, total matched 325\n",
      "shape = 326, total matched 317\n",
      "shape = 326, total matched 326\n",
      "shape = 326, total matched 326\n",
      "shape = 326, total matched 326\n",
      "shape = 326, total matched 317\n",
      "shape = 326, total matched 324\n",
      "shape = 326, total matched 323\n",
      "shape = 326, total matched 324\n",
      "shape = 326, total matched 319\n",
      "shape = 326, total matched 326\n",
      "shape = 326, total matched 326\n",
      "########################################################################################################\n",
      "############################################ SKEWNESS STAGE ############################################\n",
      "// columns to be transformed: ['OpenPorchSF', 'MasVnrArea', 'WoodDeckSF', 'MSSubClass']\n",
      "########################################################################################################\n",
      "############################################### Q-Q PLOT ###############################################\n"
     ]
    },
    {
     "data": {
      "image/png": "[encoded data removed]",
      "text/plain": [
       "<Figure size 1440x1440 with 24 Axes>"
      ]
     },
     "metadata": {
      "needs_background": "light"
     },
     "output_type": "display_data"
    },
    {
     "name": "stdout",
     "output_type": "stream",
     "text": [
      "########################################################################################################\n",
      "############################################## NORMALITY ###############################################\n",
      "// shapiro threshold: 0.01\n",
      "* W_Statistic=0.850, p=0.00000000\n",
      "  MSSubClass does not look Gaussian (reject H0)\n",
      "* W_Statistic=0.965, p=0.00000000\n",
      "  LotFrontage does not look Gaussian (reject H0)\n",
      "* W_Statistic=0.977, p=0.00000000\n",
      "  LotArea does not look Gaussian (reject H0)\n",
      "* W_Statistic=0.942, p=0.00000000\n",
      "  OverallQual does not look Gaussian (reject H0)\n",
      "* W_Statistic=0.798, p=0.00000000\n",
      "  OverallCond does not look Gaussian (reject H0)\n",
      "* W_Statistic=0.915, p=0.00000000\n",
      "  YearBuilt does not look Gaussian (reject H0)\n",
      "* W_Statistic=0.860, p=0.00000000\n",
      "  YearRemodAdd does not look Gaussian (reject H0)\n",
      "* W_Statistic=0.712, p=0.00000000\n",
      "  MasVnrArea does not look Gaussian (reject H0)\n",
      "* W_Statistic=0.902, p=0.00000000\n",
      "  BsmtFinSF1 does not look Gaussian (reject H0)\n",
      "* W_Statistic=0.929, p=0.00000000\n",
      "  BsmtUnfSF does not look Gaussian (reject H0)\n",
      "* W_Statistic=0.967, p=0.00000000\n",
      "  1stFlrSF does not look Gaussian (reject H0)\n",
      "* W_Statistic=0.778, p=0.00000000\n",
      "  2ndFlrSF does not look Gaussian (reject H0)\n",
      "* W_Statistic=0.969, p=0.00000000\n",
      "  GrLivArea does not look Gaussian (reject H0)\n",
      "* W_Statistic=0.655, p=0.00000000\n",
      "  BsmtFullBath does not look Gaussian (reject H0)\n",
      "* W_Statistic=0.706, p=0.00000000\n",
      "  FullBath does not look Gaussian (reject H0)\n",
      "* W_Statistic=0.635, p=0.00000000\n",
      "  HalfBath does not look Gaussian (reject H0)\n",
      "* W_Statistic=0.844, p=0.00000000\n",
      "  BedroomAbvGr does not look Gaussian (reject H0)\n",
      "* W_Statistic=0.763, p=0.00000000\n",
      "  Fireplaces does not look Gaussian (reject H0)\n",
      "* W_Statistic=0.776, p=0.00000000\n",
      "  GarageCars does not look Gaussian (reject H0)\n",
      "* W_Statistic=0.714, p=0.00000000\n",
      "  WoodDeckSF does not look Gaussian (reject H0)\n",
      "* W_Statistic=0.772, p=0.00000000\n",
      "  OpenPorchSF does not look Gaussian (reject H0)\n",
      "* W_Statistic=0.967, p=0.00000000\n",
      "  MoSold does not look Gaussian (reject H0)\n",
      "* W_Statistic=0.896, p=0.00000000\n",
      "  YrSold does not look Gaussian (reject H0)\n",
      "* Number of features needs min_max = 23, std = 0 according to shapiro-test.\n",
      "* All features did not follow gaussian distribution according to shapiro-test, min-max scalling used.\n",
      "// features scaled with min_max: ['MSSubClass', 'LotFrontage', 'LotArea', 'OverallQual', 'OverallCond', 'YearBuilt', 'YearRemodAdd', 'MasVnrArea', 'BsmtFinSF1', 'BsmtUnfSF', '1stFlrSF', '2ndFlrSF', 'GrLivArea', 'BsmtFullBath', 'FullBath', 'HalfBath', 'BedroomAbvGr', 'Fireplaces', 'GarageCars', 'WoodDeckSF', 'OpenPorchSF', 'MoSold', 'YrSold']\n",
      "// features scaled with std: []\n",
      "########################################################################################################\n",
      "#################################### ENCODING CATEGORICAL FEATURES #####################################\n",
      "// X_train_cat.shape: (1012, 97)\n",
      "// X_val_cat.shape: (326, 97)\n",
      "########################################################################################################\n",
      "############################################### MERGING ################################################\n",
      "// X_train_final.shape: (1012, 120)\n",
      "// X_val_final.shape: (326, 120)\n",
      "########################################################################################################\n"
     ]
    }
   ],
   "source": [
    "# calling our preprocessing function\n",
    "X_train_preprocessed, X_val_preprocessed = data_preprocessing(X_train, y_train, X_val, y_val, ordinal_cats, \n",
    "                                                              ordinal_encoding, nominal_cats, \n",
    "                                                              out_threshold=1.5, corr_threshold=.7, \n",
    "                                                              dup_threshold=.8, shapiro_threshold=.01, \n",
    "                                                              cols_threshold=0.6, rows_threshold=0.06)\n",
    "\n",
    "# transforming the response variable to follow normal distribution\n",
    "y_train_transformed = np.log(y_train)\n",
    "y_val_transformed = np.log(y_val)"
   ]
  },
  {
   "cell_type": "markdown",
   "metadata": {},
   "source": [
    "#### `4.1.1` LinearRegression Model *(data-preprocessed)*"
   ]
  },
  {
   "cell_type": "code",
   "execution_count": 34,
   "metadata": {},
   "outputs": [
    {
     "data": {
      "text/html": [
       "<div>\n",
       "<style scoped>\n",
       "    .dataframe tbody tr th:only-of-type {\n",
       "        vertical-align: middle;\n",
       "    }\n",
       "\n",
       "    .dataframe tbody tr th {\n",
       "        vertical-align: top;\n",
       "    }\n",
       "\n",
       "    .dataframe thead th {\n",
       "        text-align: right;\n",
       "    }\n",
       "</style>\n",
       "<table border=\"1\" class=\"dataframe\">\n",
       "  <thead>\n",
       "    <tr style=\"text-align: right;\">\n",
       "      <th></th>\n",
       "      <th>MSE</th>\n",
       "      <th>RMSE</th>\n",
       "      <th>MAE</th>\n",
       "      <th>MAPE</th>\n",
       "      <th>RAE</th>\n",
       "      <th>R-square</th>\n",
       "      <th>Adj-R</th>\n",
       "    </tr>\n",
       "  </thead>\n",
       "  <tbody>\n",
       "    <tr>\n",
       "      <th>0</th>\n",
       "      <td>0.018582</td>\n",
       "      <td>0.136316</td>\n",
       "      <td>0.08588</td>\n",
       "      <td>0.721248</td>\n",
       "      <td>0.279478</td>\n",
       "      <td>0.884541</td>\n",
       "      <td>0.816955</td>\n",
       "    </tr>\n",
       "  </tbody>\n",
       "</table>\n",
       "</div>"
      ],
      "text/plain": [
       "        MSE      RMSE      MAE      MAPE       RAE  R-square     Adj-R\n",
       "0  0.018582  0.136316  0.08588  0.721248  0.279478  0.884541  0.816955"
      ]
     },
     "execution_count": 34,
     "metadata": {},
     "output_type": "execute_result"
    }
   ],
   "source": [
    "linear_model = create_model(X_train_preprocessed, y_train_transformed, 'linear')\n",
    "evaluate_model(y_val_transformed, X_val_preprocessed, linear_model)"
   ]
  },
  {
   "cell_type": "markdown",
   "metadata": {},
   "source": [
    "#### `4.1.2` Ridge Model with different values of alpha *(data-preprocessed)*"
   ]
  },
  {
   "cell_type": "code",
   "execution_count": 35,
   "metadata": {
    "scrolled": true
   },
   "outputs": [
    {
     "data": {
      "text/html": [
       "<div>\n",
       "<style scoped>\n",
       "    .dataframe tbody tr th:only-of-type {\n",
       "        vertical-align: middle;\n",
       "    }\n",
       "\n",
       "    .dataframe tbody tr th {\n",
       "        vertical-align: top;\n",
       "    }\n",
       "\n",
       "    .dataframe thead th {\n",
       "        text-align: right;\n",
       "    }\n",
       "</style>\n",
       "<table border=\"1\" class=\"dataframe\">\n",
       "  <thead>\n",
       "    <tr style=\"text-align: right;\">\n",
       "      <th></th>\n",
       "      <th>alpha</th>\n",
       "      <th>MSE</th>\n",
       "      <th>RMSE</th>\n",
       "      <th>MAE</th>\n",
       "      <th>MAPE</th>\n",
       "      <th>RAE</th>\n",
       "      <th>R-square</th>\n",
       "      <th>Adj-R</th>\n",
       "    </tr>\n",
       "  </thead>\n",
       "  <tbody>\n",
       "    <tr>\n",
       "      <th>9</th>\n",
       "      <td>0.9</td>\n",
       "      <td>0.018353</td>\n",
       "      <td>0.135473</td>\n",
       "      <td>0.085341</td>\n",
       "      <td>0.716985</td>\n",
       "      <td>0.277725</td>\n",
       "      <td>0.885966</td>\n",
       "      <td>0.819214</td>\n",
       "    </tr>\n",
       "    <tr>\n",
       "      <th>8</th>\n",
       "      <td>0.8</td>\n",
       "      <td>0.018358</td>\n",
       "      <td>0.135492</td>\n",
       "      <td>0.085345</td>\n",
       "      <td>0.717011</td>\n",
       "      <td>0.277740</td>\n",
       "      <td>0.885934</td>\n",
       "      <td>0.819163</td>\n",
       "    </tr>\n",
       "    <tr>\n",
       "      <th>7</th>\n",
       "      <td>0.7</td>\n",
       "      <td>0.018366</td>\n",
       "      <td>0.135520</td>\n",
       "      <td>0.085358</td>\n",
       "      <td>0.717101</td>\n",
       "      <td>0.277780</td>\n",
       "      <td>0.885886</td>\n",
       "      <td>0.819088</td>\n",
       "    </tr>\n",
       "  </tbody>\n",
       "</table>\n",
       "</div>"
      ],
      "text/plain": [
       "   alpha       MSE      RMSE       MAE      MAPE       RAE  R-square     Adj-R\n",
       "9    0.9  0.018353  0.135473  0.085341  0.716985  0.277725  0.885966  0.819214\n",
       "8    0.8  0.018358  0.135492  0.085345  0.717011  0.277740  0.885934  0.819163\n",
       "7    0.7  0.018366  0.135520  0.085358  0.717101  0.277780  0.885886  0.819088"
      ]
     },
     "execution_count": 35,
     "metadata": {},
     "output_type": "execute_result"
    }
   ],
   "source": [
    "ridge_models = []\n",
    "for a in np.arange(0, 1, 0.1):\n",
    "    ridge_models.append(create_model(X_train_preprocessed, y_train_transformed, 'ridge', alpha=a))\n",
    "    \n",
    "ridge_metrics = evaluate_models(y_val_transformed, X_val_preprocessed, ridge_models)\n",
    "ridge_metrics.sort_values(by=['MSE']).head(3)"
   ]
  },
  {
   "cell_type": "markdown",
   "metadata": {},
   "source": [
    "#### `4.1.3` Lasso Model with different values of alpha *(data-preprocessed)*"
   ]
  },
  {
   "cell_type": "code",
   "execution_count": 36,
   "metadata": {},
   "outputs": [
    {
     "data": {
      "text/html": [
       "<div>\n",
       "<style scoped>\n",
       "    .dataframe tbody tr th:only-of-type {\n",
       "        vertical-align: middle;\n",
       "    }\n",
       "\n",
       "    .dataframe tbody tr th {\n",
       "        vertical-align: top;\n",
       "    }\n",
       "\n",
       "    .dataframe thead th {\n",
       "        text-align: right;\n",
       "    }\n",
       "</style>\n",
       "<table border=\"1\" class=\"dataframe\">\n",
       "  <thead>\n",
       "    <tr style=\"text-align: right;\">\n",
       "      <th></th>\n",
       "      <th>alpha</th>\n",
       "      <th>MSE</th>\n",
       "      <th>RMSE</th>\n",
       "      <th>MAE</th>\n",
       "      <th>MAPE</th>\n",
       "      <th>RAE</th>\n",
       "      <th>R-square</th>\n",
       "      <th>Adj-R</th>\n",
       "    </tr>\n",
       "  </thead>\n",
       "  <tbody>\n",
       "    <tr>\n",
       "      <th>0</th>\n",
       "      <td>0.0</td>\n",
       "      <td>0.018582</td>\n",
       "      <td>0.136315</td>\n",
       "      <td>0.085886</td>\n",
       "      <td>0.721300</td>\n",
       "      <td>0.279500</td>\n",
       "      <td>0.884543</td>\n",
       "      <td>0.816959</td>\n",
       "    </tr>\n",
       "    <tr>\n",
       "      <th>1</th>\n",
       "      <td>0.1</td>\n",
       "      <td>0.104096</td>\n",
       "      <td>0.322639</td>\n",
       "      <td>0.238674</td>\n",
       "      <td>1.988005</td>\n",
       "      <td>0.776717</td>\n",
       "      <td>0.353205</td>\n",
       "      <td>-0.025407</td>\n",
       "    </tr>\n",
       "    <tr>\n",
       "      <th>2</th>\n",
       "      <td>0.2</td>\n",
       "      <td>0.161743</td>\n",
       "      <td>0.402173</td>\n",
       "      <td>0.309664</td>\n",
       "      <td>2.577181</td>\n",
       "      <td>1.007741</td>\n",
       "      <td>-0.004979</td>\n",
       "      <td>-0.593260</td>\n",
       "    </tr>\n",
       "  </tbody>\n",
       "</table>\n",
       "</div>"
      ],
      "text/plain": [
       "   alpha       MSE      RMSE       MAE      MAPE       RAE  R-square     Adj-R\n",
       "0    0.0  0.018582  0.136315  0.085886  0.721300  0.279500  0.884543  0.816959\n",
       "1    0.1  0.104096  0.322639  0.238674  1.988005  0.776717  0.353205 -0.025407\n",
       "2    0.2  0.161743  0.402173  0.309664  2.577181  1.007741 -0.004979 -0.593260"
      ]
     },
     "execution_count": 36,
     "metadata": {},
     "output_type": "execute_result"
    }
   ],
   "source": [
    "lasso_models = []\n",
    "for a in np.arange(0, 1, 0.1):\n",
    "    lasso_models.append(create_model(X_train_preprocessed, y_train_transformed, 'lasso', alpha=a))\n",
    "    \n",
    "lasso_metrics = evaluate_models(y_val_transformed, X_val_preprocessed, lasso_models)\n",
    "lasso_metrics.sort_values(by=['MSE']).head(3)"
   ]
  },
  {
   "cell_type": "markdown",
   "metadata": {},
   "source": [
    "### `4.2` Cleaning our data from Multi-Collinearity and Insignificant Features"
   ]
  },
  {
   "cell_type": "code",
   "execution_count": 37,
   "metadata": {},
   "outputs": [],
   "source": [
    "cols_with_high_vif = handle_vif(X_train_preprocessed, 10)\n",
    "\n",
    "X_train_cleaned = drop_vif(X_train_preprocessed, cols_with_high_vif)\n",
    "X_val_cleaned = drop_vif(X_val_preprocessed, cols_with_high_vif)"
   ]
  },
  {
   "cell_type": "markdown",
   "metadata": {},
   "source": [
    "### Code from labs to get insignificant features"
   ]
  },
  {
   "cell_type": "code",
   "execution_count": 38,
   "metadata": {},
   "outputs": [],
   "source": [
    "# add intercept term\n",
    "X_train_cleaned_with_intercept = add_constant(X_train_cleaned)\n",
    "\n",
    "significant_feats_df = X_train_cleaned_with_intercept\n",
    "\n",
    "LRresult = (OLS(y_train_transformed.values, X_train_cleaned_with_intercept).fit().summary2().tables[1]).reset_index().rename(columns = {'index' : 'feature_name'})\n",
    "\n",
    "insignificant_feats_ls = []\n",
    "\n",
    "# if the results contain an insignificant feature (a feature with p-value > 0.05), \n",
    "# then we can drop it form the model and re-calculate the summary table\n",
    "while LRresult['P>|t|'].max() > 0.05:\n",
    "    # get the feature with the max p-value (the least significance for the model)\n",
    "    insignificant_feat = LRresult[LRresult['P>|t|'] == LRresult['P>|t|'].max()][['feature_name']].values[0, 0]\n",
    "    insignificant_feats_ls.append(insignificant_feat)\n",
    "    significant_feats_df = significant_feats_df.drop(columns=[insignificant_feat])\n",
    "    LRresult = (OLS(y_train_transformed.values, significant_feats_df).fit().summary2().tables[1]).reset_index().rename(columns = {'index' : 'feature_name'})\n",
    "\n",
    "#insignificant_feats_ls"
   ]
  },
  {
   "cell_type": "code",
   "execution_count": 39,
   "metadata": {},
   "outputs": [],
   "source": [
    "X_train_significant = X_train_cleaned.drop(columns=insignificant_feats_ls)\n",
    "X_val_significant = X_val_cleaned.drop(columns=insignificant_feats_ls)"
   ]
  },
  {
   "cell_type": "markdown",
   "metadata": {},
   "source": [
    "#### `4.2.1` LinearRegression Model"
   ]
  },
  {
   "cell_type": "code",
   "execution_count": 40,
   "metadata": {
    "scrolled": false
   },
   "outputs": [
    {
     "data": {
      "text/html": [
       "<div>\n",
       "<style scoped>\n",
       "    .dataframe tbody tr th:only-of-type {\n",
       "        vertical-align: middle;\n",
       "    }\n",
       "\n",
       "    .dataframe tbody tr th {\n",
       "        vertical-align: top;\n",
       "    }\n",
       "\n",
       "    .dataframe thead th {\n",
       "        text-align: right;\n",
       "    }\n",
       "</style>\n",
       "<table border=\"1\" class=\"dataframe\">\n",
       "  <thead>\n",
       "    <tr style=\"text-align: right;\">\n",
       "      <th></th>\n",
       "      <th>MSE</th>\n",
       "      <th>RMSE</th>\n",
       "      <th>MAE</th>\n",
       "      <th>MAPE</th>\n",
       "      <th>RAE</th>\n",
       "      <th>R-square</th>\n",
       "      <th>Adj-R</th>\n",
       "    </tr>\n",
       "  </thead>\n",
       "  <tbody>\n",
       "    <tr>\n",
       "      <th>0</th>\n",
       "      <td>0.017531</td>\n",
       "      <td>0.132407</td>\n",
       "      <td>0.086875</td>\n",
       "      <td>0.729631</td>\n",
       "      <td>0.282717</td>\n",
       "      <td>0.891069</td>\n",
       "      <td>0.875781</td>\n",
       "    </tr>\n",
       "  </tbody>\n",
       "</table>\n",
       "</div>"
      ],
      "text/plain": [
       "        MSE      RMSE       MAE      MAPE       RAE  R-square     Adj-R\n",
       "0  0.017531  0.132407  0.086875  0.729631  0.282717  0.891069  0.875781"
      ]
     },
     "execution_count": 40,
     "metadata": {},
     "output_type": "execute_result"
    }
   ],
   "source": [
    "linear_model = create_model(X_train_significant, y_train_transformed, 'linear')\n",
    "evaluate_model(y_val_transformed, X_val_significant, linear_model)"
   ]
  },
  {
   "cell_type": "markdown",
   "metadata": {},
   "source": [
    "#### `4.2.2` Ridge Model"
   ]
  },
  {
   "cell_type": "code",
   "execution_count": 41,
   "metadata": {
    "scrolled": true
   },
   "outputs": [
    {
     "data": {
      "text/html": [
       "<div>\n",
       "<style scoped>\n",
       "    .dataframe tbody tr th:only-of-type {\n",
       "        vertical-align: middle;\n",
       "    }\n",
       "\n",
       "    .dataframe tbody tr th {\n",
       "        vertical-align: top;\n",
       "    }\n",
       "\n",
       "    .dataframe thead th {\n",
       "        text-align: right;\n",
       "    }\n",
       "</style>\n",
       "<table border=\"1\" class=\"dataframe\">\n",
       "  <thead>\n",
       "    <tr style=\"text-align: right;\">\n",
       "      <th></th>\n",
       "      <th>alpha</th>\n",
       "      <th>MSE</th>\n",
       "      <th>RMSE</th>\n",
       "      <th>MAE</th>\n",
       "      <th>MAPE</th>\n",
       "      <th>RAE</th>\n",
       "      <th>R-square</th>\n",
       "      <th>Adj-R</th>\n",
       "    </tr>\n",
       "  </thead>\n",
       "  <tbody>\n",
       "    <tr>\n",
       "      <th>0</th>\n",
       "      <td>0.0</td>\n",
       "      <td>0.017531</td>\n",
       "      <td>0.132407</td>\n",
       "      <td>0.086875</td>\n",
       "      <td>0.729631</td>\n",
       "      <td>0.282717</td>\n",
       "      <td>0.891069</td>\n",
       "      <td>0.875781</td>\n",
       "    </tr>\n",
       "    <tr>\n",
       "      <th>1</th>\n",
       "      <td>0.1</td>\n",
       "      <td>0.017549</td>\n",
       "      <td>0.132474</td>\n",
       "      <td>0.086876</td>\n",
       "      <td>0.729632</td>\n",
       "      <td>0.282719</td>\n",
       "      <td>0.890958</td>\n",
       "      <td>0.875654</td>\n",
       "    </tr>\n",
       "    <tr>\n",
       "      <th>2</th>\n",
       "      <td>0.2</td>\n",
       "      <td>0.017569</td>\n",
       "      <td>0.132548</td>\n",
       "      <td>0.086881</td>\n",
       "      <td>0.729672</td>\n",
       "      <td>0.282736</td>\n",
       "      <td>0.890836</td>\n",
       "      <td>0.875515</td>\n",
       "    </tr>\n",
       "  </tbody>\n",
       "</table>\n",
       "</div>"
      ],
      "text/plain": [
       "   alpha       MSE      RMSE       MAE      MAPE       RAE  R-square     Adj-R\n",
       "0    0.0  0.017531  0.132407  0.086875  0.729631  0.282717  0.891069  0.875781\n",
       "1    0.1  0.017549  0.132474  0.086876  0.729632  0.282719  0.890958  0.875654\n",
       "2    0.2  0.017569  0.132548  0.086881  0.729672  0.282736  0.890836  0.875515"
      ]
     },
     "execution_count": 41,
     "metadata": {},
     "output_type": "execute_result"
    }
   ],
   "source": [
    "ridge_models = []\n",
    "for a in np.arange(0, 1, 0.1):\n",
    "    ridge_models.append(create_model(X_train_significant, y_train_transformed, 'ridge', alpha=a))\n",
    "    \n",
    "ridge_metrics = evaluate_models(y_val_transformed, X_val_significant, ridge_models)\n",
    "ridge_metrics.sort_values(by=['MSE']).head(3)"
   ]
  },
  {
   "cell_type": "markdown",
   "metadata": {},
   "source": [
    "#### `4.2.3` Lasso Model"
   ]
  },
  {
   "cell_type": "code",
   "execution_count": 42,
   "metadata": {},
   "outputs": [
    {
     "data": {
      "text/html": [
       "<div>\n",
       "<style scoped>\n",
       "    .dataframe tbody tr th:only-of-type {\n",
       "        vertical-align: middle;\n",
       "    }\n",
       "\n",
       "    .dataframe tbody tr th {\n",
       "        vertical-align: top;\n",
       "    }\n",
       "\n",
       "    .dataframe thead th {\n",
       "        text-align: right;\n",
       "    }\n",
       "</style>\n",
       "<table border=\"1\" class=\"dataframe\">\n",
       "  <thead>\n",
       "    <tr style=\"text-align: right;\">\n",
       "      <th></th>\n",
       "      <th>alpha</th>\n",
       "      <th>MSE</th>\n",
       "      <th>RMSE</th>\n",
       "      <th>MAE</th>\n",
       "      <th>MAPE</th>\n",
       "      <th>RAE</th>\n",
       "      <th>R-square</th>\n",
       "      <th>Adj-R</th>\n",
       "    </tr>\n",
       "  </thead>\n",
       "  <tbody>\n",
       "    <tr>\n",
       "      <th>0</th>\n",
       "      <td>0.0</td>\n",
       "      <td>0.017531</td>\n",
       "      <td>0.132407</td>\n",
       "      <td>0.086875</td>\n",
       "      <td>0.729631</td>\n",
       "      <td>0.282717</td>\n",
       "      <td>0.891069</td>\n",
       "      <td>0.875781</td>\n",
       "    </tr>\n",
       "    <tr>\n",
       "      <th>1</th>\n",
       "      <td>0.1</td>\n",
       "      <td>0.108586</td>\n",
       "      <td>0.329523</td>\n",
       "      <td>0.243430</td>\n",
       "      <td>2.028265</td>\n",
       "      <td>0.792195</td>\n",
       "      <td>0.325309</td>\n",
       "      <td>0.230616</td>\n",
       "    </tr>\n",
       "    <tr>\n",
       "      <th>2</th>\n",
       "      <td>0.2</td>\n",
       "      <td>0.161743</td>\n",
       "      <td>0.402173</td>\n",
       "      <td>0.309664</td>\n",
       "      <td>2.577181</td>\n",
       "      <td>1.007741</td>\n",
       "      <td>-0.004979</td>\n",
       "      <td>-0.146029</td>\n",
       "    </tr>\n",
       "  </tbody>\n",
       "</table>\n",
       "</div>"
      ],
      "text/plain": [
       "   alpha       MSE      RMSE       MAE      MAPE       RAE  R-square     Adj-R\n",
       "0    0.0  0.017531  0.132407  0.086875  0.729631  0.282717  0.891069  0.875781\n",
       "1    0.1  0.108586  0.329523  0.243430  2.028265  0.792195  0.325309  0.230616\n",
       "2    0.2  0.161743  0.402173  0.309664  2.577181  1.007741 -0.004979 -0.146029"
      ]
     },
     "execution_count": 42,
     "metadata": {},
     "output_type": "execute_result"
    }
   ],
   "source": [
    "lasso_models = []\n",
    "for a in np.arange(0, 1, 0.1):\n",
    "    lasso_models.append(create_model(X_train_significant, y_train_transformed, 'lasso', alpha=a))\n",
    "    \n",
    "lasso_metrics = evaluate_models(y_val_transformed, X_val_significant, lasso_models)\n",
    "lasso_metrics.sort_values(by=['MSE']).head(3)"
   ]
  },
  {
   "cell_type": "markdown",
   "metadata": {},
   "source": [
    "### `4.3` Basis expansion"
   ]
  },
  {
   "cell_type": "code",
   "execution_count": 43,
   "metadata": {},
   "outputs": [],
   "source": [
    "poly = PolynomialFeatures(degree=2)\n",
    "poly.fit(X_train_significant)\n",
    "X_train_poly = poly.transform(X_train_significant)\n",
    "X_val_poly = poly.transform(X_val_significant)"
   ]
  },
  {
   "cell_type": "markdown",
   "metadata": {},
   "source": [
    "#### `4.3.1` LinearRegression Model"
   ]
  },
  {
   "cell_type": "code",
   "execution_count": 44,
   "metadata": {},
   "outputs": [
    {
     "data": {
      "text/html": [
       "<div>\n",
       "<style scoped>\n",
       "    .dataframe tbody tr th:only-of-type {\n",
       "        vertical-align: middle;\n",
       "    }\n",
       "\n",
       "    .dataframe tbody tr th {\n",
       "        vertical-align: top;\n",
       "    }\n",
       "\n",
       "    .dataframe thead th {\n",
       "        text-align: right;\n",
       "    }\n",
       "</style>\n",
       "<table border=\"1\" class=\"dataframe\">\n",
       "  <thead>\n",
       "    <tr style=\"text-align: right;\">\n",
       "      <th></th>\n",
       "      <th>MSE</th>\n",
       "      <th>RMSE</th>\n",
       "      <th>MAE</th>\n",
       "      <th>MAPE</th>\n",
       "      <th>RAE</th>\n",
       "      <th>R-square</th>\n",
       "      <th>Adj-R</th>\n",
       "    </tr>\n",
       "  </thead>\n",
       "  <tbody>\n",
       "    <tr>\n",
       "      <th>0</th>\n",
       "      <td>5.567506e+16</td>\n",
       "      <td>2.359556e+08</td>\n",
       "      <td>5.389250e+07</td>\n",
       "      <td>4.612400e+08</td>\n",
       "      <td>1.753823e+08</td>\n",
       "      <td>-3.459336e+17</td>\n",
       "      <td>2.097545e+17</td>\n",
       "    </tr>\n",
       "  </tbody>\n",
       "</table>\n",
       "</div>"
      ],
      "text/plain": [
       "            MSE          RMSE           MAE          MAPE           RAE  \\\n",
       "0  5.567506e+16  2.359556e+08  5.389250e+07  4.612400e+08  1.753823e+08   \n",
       "\n",
       "       R-square         Adj-R  \n",
       "0 -3.459336e+17  2.097545e+17  "
      ]
     },
     "execution_count": 44,
     "metadata": {},
     "output_type": "execute_result"
    }
   ],
   "source": [
    "poly_feats_linear_reg = LinearRegression()\n",
    "poly_model = create_model(X_train_poly, y_train_transformed, 'linear')\n",
    "evaluate_model(y_val_transformed, X_val_poly, poly_model)"
   ]
  },
  {
   "cell_type": "markdown",
   "metadata": {},
   "source": [
    "#### `4.3.1` Ridge Model"
   ]
  },
  {
   "cell_type": "code",
   "execution_count": 45,
   "metadata": {},
   "outputs": [
    {
     "data": {
      "text/html": [
       "<div>\n",
       "<style scoped>\n",
       "    .dataframe tbody tr th:only-of-type {\n",
       "        vertical-align: middle;\n",
       "    }\n",
       "\n",
       "    .dataframe tbody tr th {\n",
       "        vertical-align: top;\n",
       "    }\n",
       "\n",
       "    .dataframe thead th {\n",
       "        text-align: right;\n",
       "    }\n",
       "</style>\n",
       "<table border=\"1\" class=\"dataframe\">\n",
       "  <thead>\n",
       "    <tr style=\"text-align: right;\">\n",
       "      <th></th>\n",
       "      <th>alpha</th>\n",
       "      <th>MSE</th>\n",
       "      <th>RMSE</th>\n",
       "      <th>MAE</th>\n",
       "      <th>MAPE</th>\n",
       "      <th>RAE</th>\n",
       "      <th>R-square</th>\n",
       "      <th>Adj-R</th>\n",
       "    </tr>\n",
       "  </thead>\n",
       "  <tbody>\n",
       "    <tr>\n",
       "      <th>9</th>\n",
       "      <td>0.9</td>\n",
       "      <td>0.019629</td>\n",
       "      <td>0.140105</td>\n",
       "      <td>0.093886</td>\n",
       "      <td>0.788179</td>\n",
       "      <td>0.305533</td>\n",
       "      <td>0.878034</td>\n",
       "      <td>1.073953</td>\n",
       "    </tr>\n",
       "    <tr>\n",
       "      <th>8</th>\n",
       "      <td>0.8</td>\n",
       "      <td>0.019821</td>\n",
       "      <td>0.140785</td>\n",
       "      <td>0.094377</td>\n",
       "      <td>0.792266</td>\n",
       "      <td>0.307133</td>\n",
       "      <td>0.876846</td>\n",
       "      <td>1.074673</td>\n",
       "    </tr>\n",
       "    <tr>\n",
       "      <th>7</th>\n",
       "      <td>0.7</td>\n",
       "      <td>0.020051</td>\n",
       "      <td>0.141603</td>\n",
       "      <td>0.095007</td>\n",
       "      <td>0.797513</td>\n",
       "      <td>0.309181</td>\n",
       "      <td>0.875412</td>\n",
       "      <td>1.075543</td>\n",
       "    </tr>\n",
       "  </tbody>\n",
       "</table>\n",
       "</div>"
      ],
      "text/plain": [
       "   alpha       MSE      RMSE       MAE      MAPE       RAE  R-square     Adj-R\n",
       "9    0.9  0.019629  0.140105  0.093886  0.788179  0.305533  0.878034  1.073953\n",
       "8    0.8  0.019821  0.140785  0.094377  0.792266  0.307133  0.876846  1.074673\n",
       "7    0.7  0.020051  0.141603  0.095007  0.797513  0.309181  0.875412  1.075543"
      ]
     },
     "execution_count": 45,
     "metadata": {},
     "output_type": "execute_result"
    }
   ],
   "source": [
    "ridge_models = []\n",
    "for a in np.arange(0, 1, 0.1):\n",
    "    ridge_models.append(create_model(X_train_poly, y_train_transformed, 'ridge', alpha=a))\n",
    "    \n",
    "ridge_metrics = evaluate_models(y_val_transformed, X_val_poly, ridge_models)\n",
    "ridge_metrics.sort_values(by=['MSE']).head(3)"
   ]
  },
  {
   "cell_type": "markdown",
   "metadata": {},
   "source": [
    "#### `4.3.2` Lasso Model"
   ]
  },
  {
   "cell_type": "code",
   "execution_count": 46,
   "metadata": {},
   "outputs": [
    {
     "data": {
      "text/html": [
       "<div>\n",
       "<style scoped>\n",
       "    .dataframe tbody tr th:only-of-type {\n",
       "        vertical-align: middle;\n",
       "    }\n",
       "\n",
       "    .dataframe tbody tr th {\n",
       "        vertical-align: top;\n",
       "    }\n",
       "\n",
       "    .dataframe thead th {\n",
       "        text-align: right;\n",
       "    }\n",
       "</style>\n",
       "<table border=\"1\" class=\"dataframe\">\n",
       "  <thead>\n",
       "    <tr style=\"text-align: right;\">\n",
       "      <th></th>\n",
       "      <th>alpha</th>\n",
       "      <th>MSE</th>\n",
       "      <th>RMSE</th>\n",
       "      <th>MAE</th>\n",
       "      <th>MAPE</th>\n",
       "      <th>RAE</th>\n",
       "      <th>R-square</th>\n",
       "      <th>Adj-R</th>\n",
       "    </tr>\n",
       "  </thead>\n",
       "  <tbody>\n",
       "    <tr>\n",
       "      <th>0</th>\n",
       "      <td>0.0</td>\n",
       "      <td>0.044171</td>\n",
       "      <td>0.210169</td>\n",
       "      <td>0.135554</td>\n",
       "      <td>1.130201</td>\n",
       "      <td>0.441133</td>\n",
       "      <td>0.725547</td>\n",
       "      <td>1.166413</td>\n",
       "    </tr>\n",
       "    <tr>\n",
       "      <th>1</th>\n",
       "      <td>0.1</td>\n",
       "      <td>0.053582</td>\n",
       "      <td>0.231477</td>\n",
       "      <td>0.162412</td>\n",
       "      <td>1.360365</td>\n",
       "      <td>0.528536</td>\n",
       "      <td>0.667075</td>\n",
       "      <td>1.201867</td>\n",
       "    </tr>\n",
       "    <tr>\n",
       "      <th>2</th>\n",
       "      <td>0.2</td>\n",
       "      <td>0.071079</td>\n",
       "      <td>0.266606</td>\n",
       "      <td>0.191594</td>\n",
       "      <td>1.601398</td>\n",
       "      <td>0.623503</td>\n",
       "      <td>0.558357</td>\n",
       "      <td>1.267787</td>\n",
       "    </tr>\n",
       "  </tbody>\n",
       "</table>\n",
       "</div>"
      ],
      "text/plain": [
       "   alpha       MSE      RMSE       MAE      MAPE       RAE  R-square     Adj-R\n",
       "0    0.0  0.044171  0.210169  0.135554  1.130201  0.441133  0.725547  1.166413\n",
       "1    0.1  0.053582  0.231477  0.162412  1.360365  0.528536  0.667075  1.201867\n",
       "2    0.2  0.071079  0.266606  0.191594  1.601398  0.623503  0.558357  1.267787"
      ]
     },
     "execution_count": 46,
     "metadata": {},
     "output_type": "execute_result"
    }
   ],
   "source": [
    "lasso_models = []\n",
    "for a in np.arange(0, 1, 0.1):\n",
    "    lasso_models.append(create_model(X_train_poly, y_train_transformed, 'lasso', alpha=a))\n",
    "    \n",
    "lasso_metrics = evaluate_models(y_val_transformed, X_val_poly, lasso_models)\n",
    "lasso_metrics.sort_values(by=['MSE']).head(3)"
   ]
  },
  {
   "cell_type": "markdown",
   "metadata": {},
   "source": [
    "# CONCLUSION\n",
    "1. All models with basis-expansion got an (adjusted R-square > 1) as number of features increases.\n",
    "3. Models with only data-preprocessed performs a slightly better than linear one with (ridge model and alpha=0.9)\n",
    "2. All models without insignificant features and without multicollinearity performs better than with only data-preprocessed.\n",
    "3. Models without insignificant features and without multicollinearity all with ridge and lasso got the same score with alpha equals zero (alpha=0) and I did not catch why after I added a regularization term is the same as without it. ????\n",
    "4. Finally the best models over all was that ones without insignificant features and without multicollinearity."
   ]
  },
  {
   "cell_type": "markdown",
   "metadata": {},
   "source": [
    "| alpha |   MSE  |    R   | ADJ(R) |            Model           |\n",
    "|:-----:|:------:|:------:|:------:|:--------------------------:|\n",
    "|   --  | 0.0185 | 0.8845 | 0.8169 | Linear + data-preprocessed |\n",
    "|  0.9  | 0.0183 | 0.8859 | 0.8192 |  Ridge + data-preprocessed |"
   ]
  },
  {
   "cell_type": "markdown",
   "metadata": {},
   "source": [
    "| alpha |   MSE  |    R   | ADJ(R) |              Model              |\n",
    "|:-----:|:------:|:------:|:------:|:-------------------------------:|\n",
    "|   --  | 0.0175 | 0.8910 | 0.8757 | Linear + data-cleaned (vif + p) |\n",
    "|  0.0  | 0.0175 | 0.8910 | 0.8757 |  Ridge + data-cleaned (vif + p) |\n",
    "|  0.0  | 0.0175 | 0.8910 | 0.8757 |  Lasso + data-cleaned (vif + p) |"
   ]
  },
  {
   "cell_type": "code",
   "execution_count": null,
   "metadata": {},
   "outputs": [],
   "source": []
  }
 ],
 "metadata": {
  "kernelspec": {
   "display_name": "Python 3",
   "language": "python",
   "name": "python3"
  },
  "language_info": {
   "codemirror_mode": {
    "name": "ipython",
    "version": 3
   },
   "file_extension": ".py",
   "mimetype": "text/x-python",
   "name": "python",
   "nbconvert_exporter": "python",
   "pygments_lexer": "ipython3",
   "version": "3.8.5"
  }
 },
 "nbformat": 4,
 "nbformat_minor": 4
}
